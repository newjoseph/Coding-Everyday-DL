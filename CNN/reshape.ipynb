{
  "nbformat": 4,
  "nbformat_minor": 0,
  "metadata": {
    "colab": {
      "name": "reshape.ipynb",
      "provenance": [],
      "collapsed_sections": [],
      "authorship_tag": "ABX9TyMulJCzng03Hb9kfBI1tDry"
    },
    "kernelspec": {
      "name": "python3",
      "display_name": "Python 3"
    }
  },
  "cells": [
    {
      "cell_type": "code",
      "metadata": {
        "colab": {
          "base_uri": "https://localhost:8080/"
        },
        "id": "2cP78vc5Wibk",
        "outputId": "d8e63d9d-d1ec-494c-bb4f-4a480f36d722"
      },
      "source": [
        "# reshape version\r\n",
        "\r\n",
        "import tensorflow as tf\r\n",
        "import pandas as pd\r\n",
        "\r\n",
        "# prepare the data set\r\n",
        "(ind, de), _ = tf.keras.datasets.mnist.load_data()\r\n",
        "ind = ind.reshape(60000, 784)\r\n",
        "de = pd.get_dummies(de)\r\n",
        "\r\n",
        "print(ind.shape, de.shape)\r\n",
        "\r\n",
        "# make a model structure\r\n",
        "\r\n",
        "X = tf.keras.layers.Input(shape=[784])\r\n",
        "H = tf.keras.layers.Dense(84, activation='swish')(X)\r\n",
        "Y = tf.keras.layers.Dense(10, activation='softmax')(H)\r\n",
        "\r\n",
        "model = tf.keras.models.Model(X,Y)\r\n",
        "model.compile(loss = 'categorical_crossentropy',metrics='accuracy')\r\n",
        "\r\n",
        "# fit the model\r\n",
        "model.fit(ind, de, epochs = 20)\r\n",
        "\r\n",
        "# utilize the model\r\n",
        "\r\n",
        "print(\"model prediction: \", model.predict(ind[0:5]))\r\n"
      ],
      "execution_count": 3,
      "outputs": [
        {
          "output_type": "stream",
          "text": [
            "(60000, 784) (60000, 10)\n",
            "Epoch 1/20\n",
            "1875/1875 [==============================] - 5s 2ms/step - loss: 7.0307 - accuracy: 0.8021\n",
            "Epoch 2/20\n",
            "1875/1875 [==============================] - 4s 2ms/step - loss: 0.5956 - accuracy: 0.9068\n",
            "Epoch 3/20\n",
            "1875/1875 [==============================] - 4s 2ms/step - loss: 0.4628 - accuracy: 0.9273\n",
            "Epoch 4/20\n",
            "1875/1875 [==============================] - 4s 2ms/step - loss: 0.4554 - accuracy: 0.9306\n",
            "Epoch 5/20\n",
            "1875/1875 [==============================] - 4s 2ms/step - loss: 0.4040 - accuracy: 0.9394\n",
            "Epoch 6/20\n",
            "1875/1875 [==============================] - 4s 2ms/step - loss: 0.3884 - accuracy: 0.9444\n",
            "Epoch 7/20\n",
            "1875/1875 [==============================] - 4s 2ms/step - loss: 0.3587 - accuracy: 0.9468\n",
            "Epoch 8/20\n",
            "1875/1875 [==============================] - 4s 2ms/step - loss: 0.3596 - accuracy: 0.9466\n",
            "Epoch 9/20\n",
            "1875/1875 [==============================] - 4s 2ms/step - loss: 0.3489 - accuracy: 0.9521\n",
            "Epoch 10/20\n",
            "1875/1875 [==============================] - 4s 2ms/step - loss: 0.3327 - accuracy: 0.9535\n",
            "Epoch 11/20\n",
            "1875/1875 [==============================] - 4s 2ms/step - loss: 0.3300 - accuracy: 0.9524\n",
            "Epoch 12/20\n",
            "1875/1875 [==============================] - 4s 2ms/step - loss: 0.3202 - accuracy: 0.9540\n",
            "Epoch 13/20\n",
            "1875/1875 [==============================] - 4s 2ms/step - loss: 0.3170 - accuracy: 0.9552\n",
            "Epoch 14/20\n",
            "1875/1875 [==============================] - 4s 2ms/step - loss: 0.3069 - accuracy: 0.9561\n",
            "Epoch 15/20\n",
            "1875/1875 [==============================] - 4s 2ms/step - loss: 0.2902 - accuracy: 0.9601\n",
            "Epoch 16/20\n",
            "1875/1875 [==============================] - 4s 2ms/step - loss: 0.2953 - accuracy: 0.9589\n",
            "Epoch 17/20\n",
            "1875/1875 [==============================] - 4s 2ms/step - loss: 0.2913 - accuracy: 0.9586\n",
            "Epoch 18/20\n",
            "1875/1875 [==============================] - 4s 2ms/step - loss: 0.2812 - accuracy: 0.9594\n",
            "Epoch 19/20\n",
            "1875/1875 [==============================] - 4s 2ms/step - loss: 0.2891 - accuracy: 0.9597\n",
            "Epoch 20/20\n",
            "1875/1875 [==============================] - 4s 2ms/step - loss: 0.3207 - accuracy: 0.9606\n",
            "model prediction:  [[0.00000000e+00 0.00000000e+00 0.00000000e+00 1.05505549e-29\n",
            "  0.00000000e+00 1.00000000e+00 0.00000000e+00 0.00000000e+00\n",
            "  0.00000000e+00 0.00000000e+00]\n",
            " [1.00000000e+00 0.00000000e+00 0.00000000e+00 0.00000000e+00\n",
            "  0.00000000e+00 1.98102137e-31 2.19193550e-33 9.22405917e-34\n",
            "  4.47288285e-35 1.05035705e-29]\n",
            " [0.00000000e+00 0.00000000e+00 0.00000000e+00 0.00000000e+00\n",
            "  1.00000000e+00 1.27228617e-28 0.00000000e+00 1.10001323e-14\n",
            "  0.00000000e+00 9.33061967e-26]\n",
            " [0.00000000e+00 1.00000000e+00 0.00000000e+00 0.00000000e+00\n",
            "  0.00000000e+00 0.00000000e+00 0.00000000e+00 0.00000000e+00\n",
            "  0.00000000e+00 0.00000000e+00]\n",
            " [0.00000000e+00 0.00000000e+00 0.00000000e+00 3.85462495e-19\n",
            "  1.95501457e-06 7.28444827e-17 0.00000000e+00 2.98908720e-09\n",
            "  1.94127151e-23 9.99998093e-01]]\n"
          ],
          "name": "stdout"
        }
      ]
    }
  ]
}
